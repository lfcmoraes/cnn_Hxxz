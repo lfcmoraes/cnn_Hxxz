{
 "cells": [
  {
   "cell_type": "code",
   "execution_count": null,
   "metadata": {},
   "outputs": [],
   "source": [
    "import numpy as np\n",
    "import matplotlib.pyplot as plt\n",
    "%matplotlib inline\n",
    "import pandas as pd\n",
    "import shutil\n",
    "import os\n",
    "import time\n",
    "import cv2\n",
    "import csv\n",
    "from PIL import Image\n",
    "from numba import jit\n",
    "\n",
    "\n",
    "from sklearn.model_selection import train_test_split\n",
    "from sklearn.metrics import classification_report\n",
    "from sklearn import datasets\n",
    "\n",
    "%store -r row"
   ]
  },
  {
   "cell_type": "code",
   "execution_count": null,
   "metadata": {},
   "outputs": [],
   "source": [
    "print(row.shape[0])"
   ]
  },
  {
   "cell_type": "code",
   "execution_count": null,
   "metadata": {},
   "outputs": [],
   "source": [
    "path_n8 = 'matrix/l_n8/'\n",
    "path_n6 = 'matrix/l_n6/'\n",
    "path_n4 = 'matrix/l_n4/'\n",
    "path_n2 = 'matrix/l_n2/'\n",
    "path_0 = 'matrix/l_0/'\n",
    "path_2 = 'matrix/l_2/'\n",
    "path_4 = 'matrix/l_4/'\n",
    "path_6 = 'matrix/l_6/'\n",
    "path_8 = 'matrix/l_8/'\n",
    "\n",
    "path = 'matrix/'\n",
    "\n",
    "image_type = '.png'"
   ]
  },
  {
   "cell_type": "markdown",
   "metadata": {},
   "source": [
    "### Dividing in Train/Test/Validation"
   ]
  },
  {
   "cell_type": "code",
   "execution_count": null,
   "metadata": {},
   "outputs": [],
   "source": [
    "x = row[:,0]\n",
    "y = row[:,1]\n",
    "\n",
    "x_train,x_test,y_train,y_test = train_test_split(x,y, test_size=0.2, random_state=0)\n",
    "\n",
    "x_train, x_val, y_train, y_val = train_test_split(x_train, y_train, test_size=0.2, random_state=0)\n",
    "\n",
    "print(x_train.shape[0])\n",
    "print(x_test.shape[0])\n",
    "print(x_val.shape[0])"
   ]
  },
  {
   "cell_type": "markdown",
   "metadata": {},
   "source": [
    "### Train files to train folder"
   ]
  },
  {
   "cell_type": "code",
   "execution_count": null,
   "metadata": {},
   "outputs": [],
   "source": [
    "dest_train = 'train/'\n",
    "\n",
    "for files in x_train:\n",
    "    os.rename(path+files, path + dest_train + files)"
   ]
  },
  {
   "cell_type": "markdown",
   "metadata": {},
   "source": [
    "### Test files to test folder"
   ]
  },
  {
   "cell_type": "code",
   "execution_count": null,
   "metadata": {},
   "outputs": [],
   "source": [
    "dest_test = 'test/'\n",
    "\n",
    "for files in x_test:\n",
    "    os.rename(path + files,path+ dest_test + files)"
   ]
  },
  {
   "cell_type": "markdown",
   "metadata": {},
   "source": [
    "### Validation files to validation folder"
   ]
  },
  {
   "cell_type": "code",
   "execution_count": null,
   "metadata": {},
   "outputs": [],
   "source": [
    "dest_val = 'val/'\n",
    "\n",
    "for files in x_val:\n",
    "    os.rename(path+files, path+dest_val + files)"
   ]
  },
  {
   "cell_type": "markdown",
   "metadata": {},
   "source": [
    "### Train to classes"
   ]
  },
  {
   "cell_type": "code",
   "execution_count": null,
   "metadata": {},
   "outputs": [],
   "source": [
    "source_train = 'matrix/train/'\n",
    "\n",
    "dest_train_n8 = 'matrix/train/l_n8/'\n",
    "dest_train_n6 = 'matrix/train/l_n6/'\n",
    "dest_train_n4 = 'matrix/train/l_n4/'\n",
    "dest_train_n2 = 'matrix/train/l_n2/'\n",
    "dest_train_0 = 'matrix/train/l_0/'\n",
    "dest_train_2 = 'matrix/train/l_2/'\n",
    "dest_train_4 = 'matrix/train/l_4/'\n",
    "dest_train_6 = 'matrix/train/l_6/'\n",
    "dest_train_8 = 'matrix/train/l_8/'\n",
    "\n",
    "\n",
    "    \n",
    "for files in x_train:\n",
    "    if (source_train + files == True):\n",
    "    if (y_train[np.where(x_train == files)] == '-8.0'):\n",
    "        os.rename(source_train + files, dest_train_n8 + files)\n",
    "    if (y_train[np.where(x_train == files)] == '-6.0'):\n",
    "        os.rename(source_train + files, dest_train_n6 + files)\n",
    "    if (y_train[np.where(x_train == files)] == '-4.0'):\n",
    "        os.rename(source_train + files, dest_train_n4 + files)\n",
    "    if (y_train[np.where(x_train == files)] == '-2.0'):\n",
    "        os.rename(source_train + files, dest_train_n2 + files)\n",
    "    if (y_train[np.where(x_train == files)] == '-0.0'):\n",
    "        os.rename(source_train + files, dest_train_0 + files)\n",
    "    if (y_train[np.where(x_train == files)] == '2.0'):\n",
    "        os.rename(source_train + files, dest_train_2 + files)\n",
    "    if (y_train[np.where(x_train == files)] == '4.0'):\n",
    "        os.rename(source_train + files, dest_train_4 + files)\n",
    "    if (y_train[np.where(x_train == files)] == '6.0'):\n",
    "        os.rename(source_train + files, dest_train_6 + files)\n",
    "    if (y_train[np.where(x_train == files)] == '8.0'):\n",
    "        os.rename(source_train + files, dest_train_8 + files) "
   ]
  },
  {
   "cell_type": "markdown",
   "metadata": {},
   "source": [
    "### Test to classes"
   ]
  },
  {
   "cell_type": "code",
   "execution_count": null,
   "metadata": {},
   "outputs": [],
   "source": [
    "source_test = 'matrix/test/'\n",
    "\n",
    "dest_test_n8 = 'matrix/test/l_n8/'\n",
    "dest_test_n6 = 'matrix/test/l_n6/'\n",
    "dest_test_n4 = 'matrix/test/l_n4/'\n",
    "dest_test_n2 = 'matrix/test/l_n2/'\n",
    "dest_test_0 = 'matrix/test/l_0/'\n",
    "dest_test_2 = 'matrix/test/l_2/'\n",
    "dest_test_4 = 'matrix/test/l_4/'\n",
    "dest_test_6 = 'matrix/test/l_6/'\n",
    "dest_test_8 = 'matrix/test/l_8/'\n",
    "\n",
    "\n",
    "    \n",
    "for files in x_test:\n",
    "    if (y_test[np.where(x_test == files)] == '-8.0'):\n",
    "        os.rename(source_test + files, dest_test_n8 + files)\n",
    "    if (y_test[np.where(x_test == files)] == '-6.0'):\n",
    "        os.rename(source_test + files, dest_test_n6 + files)\n",
    "    if (y_test[np.where(x_test == files)] == '-4.0'):\n",
    "        os.rename(source_test + files, dest_test_n4 + files)\n",
    "    if (y_test[np.where(x_test == files)] == '-2.0'):\n",
    "        os.rename(source_test + files, dest_test_n2 + files)\n",
    "    if (y_test[np.where(x_test == files)] == '-0.0'):\n",
    "        os.rename(source_test + files, dest_test_0 + files)\n",
    "    if (y_test[np.where(x_test == files)] == '2.0'):\n",
    "        os.rename(source_test + files, dest_test_2 + files)\n",
    "    if (y_test[np.where(x_test == files)] == '4.0'):\n",
    "        os.rename(source_test + files, dest_test_4 + files)\n",
    "    if (y_test[np.where(x_test == files)] == '6.0'):\n",
    "        os.rename(source_test + files, dest_test_6 + files)\n",
    "    if (y_test[np.where(x_test == files)] == '8.0'):\n",
    "        os.rename(source_test + files, dest_test_8 + files) "
   ]
  },
  {
   "cell_type": "markdown",
   "metadata": {},
   "source": [
    "### Validation to classes"
   ]
  },
  {
   "cell_type": "code",
   "execution_count": null,
   "metadata": {},
   "outputs": [],
   "source": [
    "source_val = 'matrix/val/'\n",
    "\n",
    "dest_val_n8 = 'matrix/val/l_n8/'\n",
    "dest_val_n6 = 'matrix/val/l_n6/'\n",
    "dest_val_n4 = 'matrix/val/l_n4/'\n",
    "dest_val_n2 = 'matrix/val/l_n2/'\n",
    "dest_val_0 = 'matrix/val/l_0/'\n",
    "dest_val_2 = 'matrix/val/l_2/'\n",
    "dest_val_4 = 'matrix/val/l_4/'\n",
    "dest_val_6 = 'matrix/val/l_6/'\n",
    "dest_val_8 = 'matrix/val/l_8/'\n",
    "\n",
    "for files in x_val:\n",
    "    if (y_val[np.where(x_val == files)] == '-8.0'):\n",
    "        os.rename(source_val + files, dest_val_n8 + files)\n",
    "    if (y_val[np.where(x_val == files)] == '-6.0'):\n",
    "        os.rename(source_val + files, dest_val_n6 + files)\n",
    "    if (y_val[np.where(x_val == files)] == '-4.0'):\n",
    "        os.rename(source_val + files, dest_val_n4 + files)\n",
    "    if (y_val[np.where(x_val == files)] == '-2.0'):\n",
    "        os.rename(source_val + files, dest_val_n2 + files)\n",
    "    if (y_val[np.where(x_val == files)] == '-0.0'):\n",
    "        os.rename(source_val + files, dest_val_0 + files)\n",
    "    if (y_val[np.where(x_val == files)] == '2.0'):\n",
    "        os.rename(source_val + files, dest_val_2 + files)\n",
    "    if (y_val[np.where(x_val == files)] == '4.0'):\n",
    "        os.rename(source_val + files, dest_val_4 + files)\n",
    "    if (y_val[np.where(x_val == files)] == '6.0'):\n",
    "        os.rename(source_val + files, dest_val_6 + files)\n",
    "    if (y_val[np.where(x_val == files)] == '8.0'):\n",
    "        os.rename(source_val + files, dest_val_8 + files) "
   ]
  }
 ],
 "metadata": {
  "kernelspec": {
   "display_name": "Python 3",
   "language": "python",
   "name": "python3"
  },
  "language_info": {
   "codemirror_mode": {
    "name": "ipython",
    "version": 3
   },
   "file_extension": ".py",
   "mimetype": "text/x-python",
   "name": "python",
   "nbconvert_exporter": "python",
   "pygments_lexer": "ipython3",
   "version": "3.6.2"
  }
 },
 "nbformat": 4,
 "nbformat_minor": 2
}
